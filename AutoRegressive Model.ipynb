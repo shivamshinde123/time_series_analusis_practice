{
 "cells": [
  {
   "cell_type": "code",
   "execution_count": 4,
   "id": "bd208e9c",
   "metadata": {
    "id": "bd208e9c"
   },
   "outputs": [],
   "source": [
    "import numpy as np\n",
    "import pandas as pd\n",
    "%matplotlib inline"
   ]
  },
  {
   "cell_type": "code",
   "execution_count": 5,
   "id": "50b65680",
   "metadata": {
    "id": "50b65680"
   },
   "outputs": [],
   "source": [
    "import warnings\n",
    "warnings.filterwarnings('ignore')"
   ]
  },
  {
   "cell_type": "code",
   "execution_count": 6,
   "id": "a73faad2",
   "metadata": {
    "id": "a73faad2"
   },
   "outputs": [],
   "source": [
    "df = pd.read_csv('data/uspopulation.csv',index_col='DATE',parse_dates=True)"
   ]
  },
  {
   "cell_type": "code",
   "execution_count": 7,
   "id": "fb039734",
   "metadata": {
    "colab": {
     "base_uri": "https://localhost:8080/"
    },
    "id": "fb039734",
    "outputId": "26f387b9-f816-48ec-e4eb-940199beec8a"
   },
   "outputs": [
    {
     "data": {
      "text/plain": [
       "DatetimeIndex(['2011-01-01', '2011-02-01', '2011-03-01', '2011-04-01',\n",
       "               '2011-05-01', '2011-06-01', '2011-07-01', '2011-08-01',\n",
       "               '2011-09-01', '2011-10-01', '2011-11-01', '2011-12-01',\n",
       "               '2012-01-01', '2012-02-01', '2012-03-01', '2012-04-01',\n",
       "               '2012-05-01', '2012-06-01', '2012-07-01', '2012-08-01',\n",
       "               '2012-09-01', '2012-10-01', '2012-11-01', '2012-12-01',\n",
       "               '2013-01-01', '2013-02-01', '2013-03-01', '2013-04-01',\n",
       "               '2013-05-01', '2013-06-01', '2013-07-01', '2013-08-01',\n",
       "               '2013-09-01', '2013-10-01', '2013-11-01', '2013-12-01',\n",
       "               '2014-01-01', '2014-02-01', '2014-03-01', '2014-04-01',\n",
       "               '2014-05-01', '2014-06-01', '2014-07-01', '2014-08-01',\n",
       "               '2014-09-01', '2014-10-01', '2014-11-01', '2014-12-01',\n",
       "               '2015-01-01', '2015-02-01', '2015-03-01', '2015-04-01',\n",
       "               '2015-05-01', '2015-06-01', '2015-07-01', '2015-08-01',\n",
       "               '2015-09-01', '2015-10-01', '2015-11-01', '2015-12-01',\n",
       "               '2016-01-01', '2016-02-01', '2016-03-01', '2016-04-01',\n",
       "               '2016-05-01', '2016-06-01', '2016-07-01', '2016-08-01',\n",
       "               '2016-09-01', '2016-10-01', '2016-11-01', '2016-12-01',\n",
       "               '2017-01-01', '2017-02-01', '2017-03-01', '2017-04-01',\n",
       "               '2017-05-01', '2017-06-01', '2017-07-01', '2017-08-01',\n",
       "               '2017-09-01', '2017-10-01', '2017-11-01', '2017-12-01',\n",
       "               '2018-01-01', '2018-02-01', '2018-03-01', '2018-04-01',\n",
       "               '2018-05-01', '2018-06-01', '2018-07-01', '2018-08-01',\n",
       "               '2018-09-01', '2018-10-01', '2018-11-01', '2018-12-01'],\n",
       "              dtype='datetime64[ns]', name='DATE', freq=None)"
      ]
     },
     "execution_count": 7,
     "metadata": {},
     "output_type": "execute_result"
    }
   ],
   "source": [
    "df.index"
   ]
  },
  {
   "cell_type": "code",
   "execution_count": 8,
   "id": "641a3c0d",
   "metadata": {
    "id": "641a3c0d"
   },
   "outputs": [],
   "source": [
    "df.index.freq = 'MS'"
   ]
  },
  {
   "cell_type": "code",
   "execution_count": 9,
   "id": "3bc9a1a0",
   "metadata": {
    "colab": {
     "base_uri": "https://localhost:8080/"
    },
    "id": "3bc9a1a0",
    "outputId": "7b80c1ae-6640-4c0f-b44b-01c6dd03430a"
   },
   "outputs": [
    {
     "data": {
      "text/plain": [
       "DatetimeIndex(['2011-01-01', '2011-02-01', '2011-03-01', '2011-04-01',\n",
       "               '2011-05-01', '2011-06-01', '2011-07-01', '2011-08-01',\n",
       "               '2011-09-01', '2011-10-01', '2011-11-01', '2011-12-01',\n",
       "               '2012-01-01', '2012-02-01', '2012-03-01', '2012-04-01',\n",
       "               '2012-05-01', '2012-06-01', '2012-07-01', '2012-08-01',\n",
       "               '2012-09-01', '2012-10-01', '2012-11-01', '2012-12-01',\n",
       "               '2013-01-01', '2013-02-01', '2013-03-01', '2013-04-01',\n",
       "               '2013-05-01', '2013-06-01', '2013-07-01', '2013-08-01',\n",
       "               '2013-09-01', '2013-10-01', '2013-11-01', '2013-12-01',\n",
       "               '2014-01-01', '2014-02-01', '2014-03-01', '2014-04-01',\n",
       "               '2014-05-01', '2014-06-01', '2014-07-01', '2014-08-01',\n",
       "               '2014-09-01', '2014-10-01', '2014-11-01', '2014-12-01',\n",
       "               '2015-01-01', '2015-02-01', '2015-03-01', '2015-04-01',\n",
       "               '2015-05-01', '2015-06-01', '2015-07-01', '2015-08-01',\n",
       "               '2015-09-01', '2015-10-01', '2015-11-01', '2015-12-01',\n",
       "               '2016-01-01', '2016-02-01', '2016-03-01', '2016-04-01',\n",
       "               '2016-05-01', '2016-06-01', '2016-07-01', '2016-08-01',\n",
       "               '2016-09-01', '2016-10-01', '2016-11-01', '2016-12-01',\n",
       "               '2017-01-01', '2017-02-01', '2017-03-01', '2017-04-01',\n",
       "               '2017-05-01', '2017-06-01', '2017-07-01', '2017-08-01',\n",
       "               '2017-09-01', '2017-10-01', '2017-11-01', '2017-12-01',\n",
       "               '2018-01-01', '2018-02-01', '2018-03-01', '2018-04-01',\n",
       "               '2018-05-01', '2018-06-01', '2018-07-01', '2018-08-01',\n",
       "               '2018-09-01', '2018-10-01', '2018-11-01', '2018-12-01'],\n",
       "              dtype='datetime64[ns]', name='DATE', freq='MS')"
      ]
     },
     "execution_count": 9,
     "metadata": {},
     "output_type": "execute_result"
    }
   ],
   "source": [
    "df.index"
   ]
  },
  {
   "cell_type": "code",
   "execution_count": 10,
   "id": "bec7f26d",
   "metadata": {
    "colab": {
     "base_uri": "https://localhost:8080/",
     "height": 237
    },
    "id": "bec7f26d",
    "outputId": "ca5b98e4-52a3-469a-804c-cdb805c71f88"
   },
   "outputs": [
    {
     "data": {
      "text/html": [
       "\n",
       "  <div id=\"df-ad504000-c6bb-4c14-9f22-7ea0959ca456\">\n",
       "    <div class=\"colab-df-container\">\n",
       "      <div>\n",
       "<style scoped>\n",
       "    .dataframe tbody tr th:only-of-type {\n",
       "        vertical-align: middle;\n",
       "    }\n",
       "\n",
       "    .dataframe tbody tr th {\n",
       "        vertical-align: top;\n",
       "    }\n",
       "\n",
       "    .dataframe thead th {\n",
       "        text-align: right;\n",
       "    }\n",
       "</style>\n",
       "<table border=\"1\" class=\"dataframe\">\n",
       "  <thead>\n",
       "    <tr style=\"text-align: right;\">\n",
       "      <th></th>\n",
       "      <th>PopEst</th>\n",
       "    </tr>\n",
       "    <tr>\n",
       "      <th>DATE</th>\n",
       "      <th></th>\n",
       "    </tr>\n",
       "  </thead>\n",
       "  <tbody>\n",
       "    <tr>\n",
       "      <th>2011-01-01</th>\n",
       "      <td>311037</td>\n",
       "    </tr>\n",
       "    <tr>\n",
       "      <th>2011-02-01</th>\n",
       "      <td>311189</td>\n",
       "    </tr>\n",
       "    <tr>\n",
       "      <th>2011-03-01</th>\n",
       "      <td>311351</td>\n",
       "    </tr>\n",
       "    <tr>\n",
       "      <th>2011-04-01</th>\n",
       "      <td>311522</td>\n",
       "    </tr>\n",
       "    <tr>\n",
       "      <th>2011-05-01</th>\n",
       "      <td>311699</td>\n",
       "    </tr>\n",
       "  </tbody>\n",
       "</table>\n",
       "</div>\n",
       "      <button class=\"colab-df-convert\" onclick=\"convertToInteractive('df-ad504000-c6bb-4c14-9f22-7ea0959ca456')\"\n",
       "              title=\"Convert this dataframe to an interactive table.\"\n",
       "              style=\"display:none;\">\n",
       "        \n",
       "  <svg xmlns=\"http://www.w3.org/2000/svg\" height=\"24px\"viewBox=\"0 0 24 24\"\n",
       "       width=\"24px\">\n",
       "    <path d=\"M0 0h24v24H0V0z\" fill=\"none\"/>\n",
       "    <path d=\"M18.56 5.44l.94 2.06.94-2.06 2.06-.94-2.06-.94-.94-2.06-.94 2.06-2.06.94zm-11 1L8.5 8.5l.94-2.06 2.06-.94-2.06-.94L8.5 2.5l-.94 2.06-2.06.94zm10 10l.94 2.06.94-2.06 2.06-.94-2.06-.94-.94-2.06-.94 2.06-2.06.94z\"/><path d=\"M17.41 7.96l-1.37-1.37c-.4-.4-.92-.59-1.43-.59-.52 0-1.04.2-1.43.59L10.3 9.45l-7.72 7.72c-.78.78-.78 2.05 0 2.83L4 21.41c.39.39.9.59 1.41.59.51 0 1.02-.2 1.41-.59l7.78-7.78 2.81-2.81c.8-.78.8-2.07 0-2.86zM5.41 20L4 18.59l7.72-7.72 1.47 1.35L5.41 20z\"/>\n",
       "  </svg>\n",
       "      </button>\n",
       "      \n",
       "  <style>\n",
       "    .colab-df-container {\n",
       "      display:flex;\n",
       "      flex-wrap:wrap;\n",
       "      gap: 12px;\n",
       "    }\n",
       "\n",
       "    .colab-df-convert {\n",
       "      background-color: #E8F0FE;\n",
       "      border: none;\n",
       "      border-radius: 50%;\n",
       "      cursor: pointer;\n",
       "      display: none;\n",
       "      fill: #1967D2;\n",
       "      height: 32px;\n",
       "      padding: 0 0 0 0;\n",
       "      width: 32px;\n",
       "    }\n",
       "\n",
       "    .colab-df-convert:hover {\n",
       "      background-color: #E2EBFA;\n",
       "      box-shadow: 0px 1px 2px rgba(60, 64, 67, 0.3), 0px 1px 3px 1px rgba(60, 64, 67, 0.15);\n",
       "      fill: #174EA6;\n",
       "    }\n",
       "\n",
       "    [theme=dark] .colab-df-convert {\n",
       "      background-color: #3B4455;\n",
       "      fill: #D2E3FC;\n",
       "    }\n",
       "\n",
       "    [theme=dark] .colab-df-convert:hover {\n",
       "      background-color: #434B5C;\n",
       "      box-shadow: 0px 1px 3px 1px rgba(0, 0, 0, 0.15);\n",
       "      filter: drop-shadow(0px 1px 2px rgba(0, 0, 0, 0.3));\n",
       "      fill: #FFFFFF;\n",
       "    }\n",
       "  </style>\n",
       "\n",
       "      <script>\n",
       "        const buttonEl =\n",
       "          document.querySelector('#df-ad504000-c6bb-4c14-9f22-7ea0959ca456 button.colab-df-convert');\n",
       "        buttonEl.style.display =\n",
       "          google.colab.kernel.accessAllowed ? 'block' : 'none';\n",
       "\n",
       "        async function convertToInteractive(key) {\n",
       "          const element = document.querySelector('#df-ad504000-c6bb-4c14-9f22-7ea0959ca456');\n",
       "          const dataTable =\n",
       "            await google.colab.kernel.invokeFunction('convertToInteractive',\n",
       "                                                     [key], {});\n",
       "          if (!dataTable) return;\n",
       "\n",
       "          const docLinkHtml = 'Like what you see? Visit the ' +\n",
       "            '<a target=\"_blank\" href=https://colab.research.google.com/notebooks/data_table.ipynb>data table notebook</a>'\n",
       "            + ' to learn more about interactive tables.';\n",
       "          element.innerHTML = '';\n",
       "          dataTable['output_type'] = 'display_data';\n",
       "          await google.colab.output.renderOutput(dataTable, element);\n",
       "          const docLink = document.createElement('div');\n",
       "          docLink.innerHTML = docLinkHtml;\n",
       "          element.appendChild(docLink);\n",
       "        }\n",
       "      </script>\n",
       "    </div>\n",
       "  </div>\n",
       "  "
      ],
      "text/plain": [
       "            PopEst\n",
       "DATE              \n",
       "2011-01-01  311037\n",
       "2011-02-01  311189\n",
       "2011-03-01  311351\n",
       "2011-04-01  311522\n",
       "2011-05-01  311699"
      ]
     },
     "execution_count": 10,
     "metadata": {},
     "output_type": "execute_result"
    }
   ],
   "source": [
    "df.head()"
   ]
  },
  {
   "cell_type": "code",
   "execution_count": 11,
   "id": "79b1025f",
   "metadata": {
    "colab": {
     "base_uri": "https://localhost:8080/"
    },
    "id": "79b1025f",
    "outputId": "7b177823-bc7d-43ed-955f-0467dbeb00dd"
   },
   "outputs": [
    {
     "data": {
      "text/plain": [
       "(96, 1)"
      ]
     },
     "execution_count": 11,
     "metadata": {},
     "output_type": "execute_result"
    }
   ],
   "source": [
    "df.shape"
   ]
  },
  {
   "cell_type": "code",
   "execution_count": 12,
   "id": "343d0be2",
   "metadata": {
    "colab": {
     "base_uri": "https://localhost:8080/",
     "height": 298
    },
    "id": "343d0be2",
    "outputId": "781eb0dd-c5ce-43d3-ba0f-b349febff9bd"
   },
   "outputs": [
    {
     "data": {
      "image/png": "[encoded data removed]",
      "text/plain": [
       "<Figure size 864x360 with 1 Axes>"
      ]
     },
     "metadata": {
      "needs_background": "light"
     },
     "output_type": "display_data"
    }
   ],
   "source": [
    "# plotting the data \n",
    "df['PopEst'].plot(figsize=(12,5));"
   ]
  },
  {
   "cell_type": "code",
   "execution_count": 13,
   "id": "f18f96aa",
   "metadata": {
    "id": "f18f96aa"
   },
   "outputs": [],
   "source": [
    "## splitting the data into train and test\n",
    "train = df.iloc[:84]\n",
    "test = df.iloc[84:]"
   ]
  },
  {
   "cell_type": "code",
   "execution_count": 14,
   "id": "5a768b1a",
   "metadata": {
    "id": "5a768b1a"
   },
   "outputs": [],
   "source": [
    "## imports\n",
    "from statsmodels.tsa.ar_model import AR, ARResults"
   ]
  },
  {
   "cell_type": "code",
   "execution_count": 16,
   "id": "05cbe00b",
   "metadata": {
    "id": "05cbe00b"
   },
   "outputs": [],
   "source": [
    "## fitting AR1 model\n",
    "model = AR(train['PopEst'])\n",
    "AR1fit = model.fit(maxlag=1)"
   ]
  },
  {
   "cell_type": "code",
   "execution_count": 17,
   "id": "bJAAHW4uySva",
   "metadata": {
    "colab": {
     "base_uri": "https://localhost:8080/"
    },
    "id": "bJAAHW4uySva",
    "outputId": "2a18db4c-cbf8-4bf1-cd4d-cd11040fafe6"
   },
   "outputs": [
    {
     "data": {
      "text/plain": [
       "const        284.913797\n",
       "L1.PopEst      0.999686\n",
       "dtype: float64"
      ]
     },
     "execution_count": 17,
     "metadata": {},
     "output_type": "execute_result"
    }
   ],
   "source": [
    "AR1fit.params"
   ]
  },
  {
   "cell_type": "code",
   "execution_count": 19,
   "id": "ApyHpQMcyVDg",
   "metadata": {
    "id": "ApyHpQMcyVDg"
   },
   "outputs": [],
   "source": [
    "## obtaining the predictions\n",
    "start = len(train)\n",
    "end = len(train) +  len(test) - 1"
   ]
  },
  {
   "cell_type": "code",
   "execution_count": 20,
   "id": "dnvnUU7pye0c",
   "metadata": {
    "id": "dnvnUU7pye0c"
   },
   "outputs": [],
   "source": [
    "prediction1 = AR1fit.predict(start=start,end=end,dynamic=False)"
   ]
  },
  {
   "cell_type": "code",
   "execution_count": 21,
   "id": "mSgsoHyNytof",
   "metadata": {
    "colab": {
     "base_uri": "https://localhost:8080/"
    },
    "id": "mSgsoHyNytof",
    "outputId": "91faf23d-bb4d-4c2c-bf4c-dac9d2a5317a"
   },
   "outputs": [
    {
     "data": {
      "text/plain": [
       "2018-01-01    326560.403377\n",
       "2018-02-01    326742.749463\n",
       "2018-03-01    326925.038278\n",
       "2018-04-01    327107.269838\n",
       "2018-05-01    327289.444162\n",
       "2018-06-01    327471.561268\n",
       "2018-07-01    327653.621173\n",
       "2018-08-01    327835.623896\n",
       "2018-09-01    328017.569455\n",
       "2018-10-01    328199.457868\n",
       "2018-11-01    328381.289152\n",
       "2018-12-01    328563.063326\n",
       "Freq: MS, dtype: float64"
      ]
     },
     "execution_count": 21,
     "metadata": {},
     "output_type": "execute_result"
    }
   ],
   "source": [
    "prediction1"
   ]
  },
  {
   "cell_type": "code",
   "execution_count": 22,
   "id": "Zf5Q7mSGyxC3",
   "metadata": {
    "colab": {
     "base_uri": "https://localhost:8080/"
    },
    "id": "Zf5Q7mSGyxC3",
    "outputId": "aec0e17f-c7a6-4b4a-db1b-8385414e6004"
   },
   "outputs": [
    {
     "data": {
      "text/plain": [
       "2018-01-01    326560.403377\n",
       "2018-02-01    326742.749463\n",
       "2018-03-01    326925.038278\n",
       "2018-04-01    327107.269838\n",
       "2018-05-01    327289.444162\n",
       "2018-06-01    327471.561268\n",
       "2018-07-01    327653.621173\n",
       "2018-08-01    327835.623896\n",
       "2018-09-01    328017.569455\n",
       "2018-10-01    328199.457868\n",
       "2018-11-01    328381.289152\n",
       "2018-12-01    328563.063326\n",
       "Freq: MS, Name: AR1 Predictions, dtype: float64"
      ]
     },
     "execution_count": 22,
     "metadata": {},
     "output_type": "execute_result"
    }
   ],
   "source": [
    "prediction1.rename('AR1 Predictions',inplace=True)"
   ]
  },
  {
   "cell_type": "code",
   "execution_count": 24,
   "id": "k4A0LGGvy4rv",
   "metadata": {
    "colab": {
     "base_uri": "https://localhost:8080/",
     "height": 304
    },
    "id": "k4A0LGGvy4rv",
    "outputId": "12e6e6f9-8fb1-46a0-cbb3-dce9ce549edb"
   },
   "outputs": [
    {
     "data": {
      "image/png": "[encoded data removed]",
      "text/plain": [
       "<Figure size 864x360 with 1 Axes>"
      ]
     },
     "metadata": {
      "needs_background": "light"
     },
     "output_type": "display_data"
    }
   ],
   "source": [
    "## plotting the test set and the predictions for order 1 AR model\n",
    "test['PopEst'].plot(figsize=(12,5),label='Test',legend=True)\n",
    "prediction1.plot(legend=True);"
   ]
  },
  {
   "cell_type": "code",
   "execution_count": 27,
   "id": "ysGyQfCGzQ-7",
   "metadata": {
    "id": "ysGyQfCGzQ-7"
   },
   "outputs": [],
   "source": [
    "## checking the error quantitatively for the AR1 model\n",
    "from sklearn.metrics import mean_squared_error\n",
    "\n",
    "rmse = np.sqrt(mean_squared_error(test['PopEst'],prediction1))"
   ]
  },
  {
   "cell_type": "code",
   "execution_count": 32,
   "id": "EEM_1UZszo8t",
   "metadata": {
    "colab": {
     "base_uri": "https://localhost:8080/"
    },
    "id": "EEM_1UZszo8t",
    "outputId": "9d0e16cc-7a6c-42ed-92a6-456cd42591bd"
   },
   "outputs": [
    {
     "name": "stdout",
     "output_type": "stream",
     "text": [
      "The average of the test set is 327435.5\n",
      "The root mean squared error for the AR1 model is 132.097\n"
     ]
    }
   ],
   "source": [
    "## comparing this rmse value with the average of the test set\n",
    "print(f\"The average of the test set is {test['PopEst'].mean()}\")\n",
    "print(f\"The root mean squared error for the AR1 model is {np.round(rmse,3)}\")"
   ]
  },
  {
   "cell_type": "markdown",
   "id": "4Tt3QasT0ST8",
   "metadata": {
    "id": "4Tt3QasT0ST8"
   },
   "source": [
    "**Error is quite less compared to the average. So the model is quite good**"
   ]
  },
  {
   "cell_type": "code",
   "execution_count": 33,
   "id": "EcCJX8Q1z2XD",
   "metadata": {
    "id": "EcCJX8Q1z2XD"
   },
   "outputs": [],
   "source": [
    "## fitting AR2 model now\n",
    "AR2fit = model.fit(maxlag=2)"
   ]
  },
  {
   "cell_type": "code",
   "execution_count": 34,
   "id": "5asI_lmk0mwh",
   "metadata": {
    "colab": {
     "base_uri": "https://localhost:8080/"
    },
    "id": "5asI_lmk0mwh",
    "outputId": "fce1dc31-2b94-43ab-df32-8d6e11a0e0a0"
   },
   "outputs": [
    {
     "data": {
      "text/plain": [
       "const        137.368305\n",
       "L1.PopEst      1.853490\n",
       "L2.PopEst     -0.853836\n",
       "dtype: float64"
      ]
     },
     "execution_count": 34,
     "metadata": {},
     "output_type": "execute_result"
    }
   ],
   "source": [
    "AR2fit.params"
   ]
  },
  {
   "cell_type": "code",
   "execution_count": 35,
   "id": "KtaGt7L20o0j",
   "metadata": {
    "id": "KtaGt7L20o0j"
   },
   "outputs": [],
   "source": [
    "## predicting the values for the test set\n",
    "prediction2 = AR2fit.predict(start=start,end=end,dynamic=True)"
   ]
  },
  {
   "cell_type": "code",
   "execution_count": 38,
   "id": "v0Ah-2Zs1B89",
   "metadata": {
    "colab": {
     "base_uri": "https://localhost:8080/"
    },
    "id": "v0Ah-2Zs1B89",
    "outputId": "e4dbb51b-fdec-401f-e01e-06434c70b4a6"
   },
   "outputs": [
    {
     "data": {
      "text/plain": [
       "2018-01-01    326535.672503\n",
       "2018-02-01    326694.718510\n",
       "2018-03-01    326854.882250\n",
       "2018-04-01    327015.944949\n",
       "2018-05-01    327177.719499\n",
       "2018-06-01    327340.045897\n",
       "2018-07-01    327502.787331\n",
       "2018-08-01    327665.826848\n",
       "2018-09-01    327829.064481\n",
       "2018-10-01    327992.414811\n",
       "2018-11-01    328155.804861\n",
       "2018-12-01    328319.172309\n",
       "Freq: MS, Name: AR2 Predictions, dtype: float64"
      ]
     },
     "execution_count": 38,
     "metadata": {},
     "output_type": "execute_result"
    }
   ],
   "source": [
    "prediction2.rename('AR2 Predictions',inplace=True)"
   ]
  },
  {
   "cell_type": "code",
   "execution_count": 39,
   "id": "flIkJ9ef017x",
   "metadata": {
    "colab": {
     "base_uri": "https://localhost:8080/",
     "height": 304
    },
    "id": "flIkJ9ef017x",
    "outputId": "a0e67839-6bd7-4db9-a201-8815e39f3f4d"
   },
   "outputs": [
    {
     "data": {
      "image/png": "[encoded data removed]",
      "text/plain": [
       "<Figure size 864x360 with 1 Axes>"
      ]
     },
     "metadata": {
      "needs_background": "light"
     },
     "output_type": "display_data"
    }
   ],
   "source": [
    "## plotting the predictions with the test set\n",
    "test['PopEst'].plot(figsize=(12,5),label='Test',legend=True)\n",
    "prediction1.plot(legend=True)\n",
    "prediction2.plot(legend=True);"
   ]
  },
  {
   "cell_type": "markdown",
   "id": "unlhqNQI1UfQ",
   "metadata": {
    "id": "unlhqNQI1UfQ"
   },
   "source": [
    "### Instead of choosing the order for the model ourselves, let's leave that task to the statsmodels"
   ]
  },
  {
   "cell_type": "code",
   "execution_count": 40,
   "id": "_aR-W6j71JTQ",
   "metadata": {
    "id": "_aR-W6j71JTQ"
   },
   "outputs": [],
   "source": [
    "ARfit = model.fit()"
   ]
  },
  {
   "cell_type": "code",
   "execution_count": 41,
   "id": "VC7ApOEM1ivZ",
   "metadata": {
    "colab": {
     "base_uri": "https://localhost:8080/"
    },
    "id": "VC7ApOEM1ivZ",
    "outputId": "d43ffbdf-8d29-4c52-ce12-a9080bacae8a"
   },
   "outputs": [
    {
     "data": {
      "text/plain": [
       "const         96.143523\n",
       "L1.PopEst      2.298626\n",
       "L2.PopEst     -2.027441\n",
       "L3.PopEst      1.356878\n",
       "L4.PopEst     -1.171630\n",
       "L5.PopEst      0.816723\n",
       "L6.PopEst     -0.699990\n",
       "L7.PopEst      0.727004\n",
       "L8.PopEst     -0.354790\n",
       "L9.PopEst      0.241036\n",
       "L10.PopEst    -0.179865\n",
       "L11.PopEst    -0.006819\n",
       "dtype: float64"
      ]
     },
     "execution_count": 41,
     "metadata": {},
     "output_type": "execute_result"
    }
   ],
   "source": [
    "ARfit.params"
   ]
  },
  {
   "cell_type": "code",
   "execution_count": 60,
   "id": "mcP4mQl03dx-",
   "metadata": {
    "id": "mcP4mQl03dx-"
   },
   "outputs": [],
   "source": [
    "model = AR(df['PopEst'])\n",
    "ARfit = model.fit(maxlag=11)"
   ]
  },
  {
   "cell_type": "code",
   "execution_count": 61,
   "id": "9GTJMTtu1k3k",
   "metadata": {
    "id": "9GTJMTtu1k3k"
   },
   "outputs": [],
   "source": [
    "prediction11 = ARfit.predict(start=start,end=end,dynamic=False)"
   ]
  },
  {
   "cell_type": "code",
   "execution_count": 62,
   "id": "wUQRc7L_10QI",
   "metadata": {
    "colab": {
     "base_uri": "https://localhost:8080/"
    },
    "id": "wUQRc7L_10QI",
    "outputId": "2b46124b-cdb9-4182-95cc-6f08119fb992"
   },
   "outputs": [
    {
     "data": {
      "text/plain": [
       "DATE\n",
       "2018-01-01    326523.607005\n",
       "2018-02-01    326668.531545\n",
       "2018-03-01    326810.722261\n",
       "2018-04-01    326964.150242\n",
       "2018-05-01    327138.933067\n",
       "2018-06-01    327310.848072\n",
       "2018-07-01    327501.073575\n",
       "2018-08-01    327695.074295\n",
       "2018-09-01    327891.260112\n",
       "2018-10-01    328078.234005\n",
       "2018-11-01    328247.066844\n",
       "2018-12-01    328390.156452\n",
       "Freq: MS, Name: AR11 Predictions, dtype: float64"
      ]
     },
     "execution_count": 62,
     "metadata": {},
     "output_type": "execute_result"
    }
   ],
   "source": [
    "prediction11.rename('AR11 Predictions',inplace=True)"
   ]
  },
  {
   "cell_type": "code",
   "execution_count": 63,
   "id": "_L31IpNb173O",
   "metadata": {
    "colab": {
     "base_uri": "https://localhost:8080/",
     "height": 304
    },
    "id": "_L31IpNb173O",
    "outputId": "b67aba2a-cb00-4cc4-d9cf-d48c6f44e66a"
   },
   "outputs": [
    {
     "data": {
      "image/png": "[encoded data removed]",
      "text/plain": [
       "<Figure size 864x360 with 1 Axes>"
      ]
     },
     "metadata": {
      "needs_background": "light"
     },
     "output_type": "display_data"
    }
   ],
   "source": [
    "## plotting the predictions together\n",
    "test['PopEst'].plot(figsize=(12,5),label='Test',legend=True)\n",
    "# prediction1.plot(legend=True)\n",
    "# prediction2.plot(legend=True)\n",
    "prediction11.plot(legend=True);"
   ]
  },
  {
   "cell_type": "code",
   "execution_count": 64,
   "id": "YjADYB3g2E_d",
   "metadata": {
    "id": "YjADYB3g2E_d"
   },
   "outputs": [],
   "source": [
    "## let's check the accuracy of the results using some quantitative method\n",
    "from sklearn.metrics import mean_squared_error\n",
    "\n",
    "rmse = np.sqrt(mean_squared_error(test['PopEst'],prediction11))"
   ]
  },
  {
   "cell_type": "code",
   "execution_count": 65,
   "id": "VCxCwXxG2eWV",
   "metadata": {
    "id": "VCxCwXxG2eWV"
   },
   "outputs": [],
   "source": [
    "## finding the mean of the test set\n",
    "t_mean = test['PopEst'].mean()"
   ]
  },
  {
   "cell_type": "code",
   "execution_count": 66,
   "id": "hJzbOURK2kLh",
   "metadata": {
    "colab": {
     "base_uri": "https://localhost:8080/"
    },
    "id": "hJzbOURK2kLh",
    "outputId": "662b0dc1-d15b-4c7f-8afe-0e1dee40f8f5"
   },
   "outputs": [
    {
     "name": "stdout",
     "output_type": "stream",
     "text": [
      "The average of the test set is 327435.5\n",
      "The root mean squared error of the test set is 3.065\n"
     ]
    }
   ],
   "source": [
    "print(f\"The average of the test set is {t_mean}\")\n",
    "print(f\"The root mean squared error of the test set is {np.round(rmse,3)}\")"
   ]
  },
  {
   "cell_type": "markdown",
   "id": "v3jz2gyp3AlD",
   "metadata": {
    "id": "v3jz2gyp3AlD"
   },
   "source": [
    "### Forecasting into the future"
   ]
  },
  {
   "cell_type": "code",
   "execution_count": 69,
   "id": "vVdfp2iU20gx",
   "metadata": {
    "id": "vVdfp2iU20gx"
   },
   "outputs": [],
   "source": [
    "forecasted_values = ARfit.predict(start=len(df),end=len(df)+12,dynamic=False)"
   ]
  },
  {
   "cell_type": "code",
   "execution_count": 70,
   "id": "0a76HcxG3656",
   "metadata": {
    "colab": {
     "base_uri": "https://localhost:8080/"
    },
    "id": "0a76HcxG3656",
    "outputId": "478595bf-188f-43aa-96c2-15fe2671b179"
   },
   "outputs": [
    {
     "data": {
      "text/plain": [
       "2019-01-01    328536.765077\n",
       "2019-02-01    328674.007917\n",
       "2019-03-01    328813.066696\n",
       "2019-04-01    328961.484081\n",
       "2019-05-01    329123.988688\n",
       "2019-06-01    329300.174105\n",
       "2019-07-01    329485.616445\n",
       "2019-08-01    329674.501198\n",
       "2019-09-01    329860.058746\n",
       "2019-10-01    330036.190633\n",
       "2019-11-01    330198.872161\n",
       "2019-12-01    330347.742983\n",
       "2020-01-01    330486.478755\n",
       "Freq: MS, Name: Forecasted Values, dtype: float64"
      ]
     },
     "execution_count": 70,
     "metadata": {},
     "output_type": "execute_result"
    }
   ],
   "source": [
    "forecasted_values.rename('Forecasted Values',inplace=True)"
   ]
  },
  {
   "cell_type": "code",
   "execution_count": 71,
   "id": "o99YHcPz3QNn",
   "metadata": {
    "colab": {
     "base_uri": "https://localhost:8080/",
     "height": 311
    },
    "id": "o99YHcPz3QNn",
    "outputId": "f2c86d26-a2f6-4ae8-e070-4fd74a9966b0"
   },
   "outputs": [
    {
     "data": {
      "text/plain": [
       "<matplotlib.axes._subplots.AxesSubplot at 0x7f73839764d0>"
      ]
     },
     "execution_count": 71,
     "metadata": {},
     "output_type": "execute_result"
    },
    {
     "data": {
      "image/png": "[encoded data removed]",
      "text/plain": [
       "<Figure size 864x360 with 1 Axes>"
      ]
     },
     "metadata": {
      "needs_background": "light"
     },
     "output_type": "display_data"
    }
   ],
   "source": [
    "## plotting the forecasted values\n",
    "df['PopEst'].plot(figsize=(12,5),legend=True)\n",
    "forecasted_values.plot(legend=True)"
   ]
  },
  {
   "cell_type": "code",
   "execution_count": null,
   "id": "EsHrQe-64K8k",
   "metadata": {
    "id": "EsHrQe-64K8k"
   },
   "outputs": [],
   "source": []
  }
 ],
 "metadata": {
  "colab": {
   "collapsed_sections": [],
   "name": "AutoRegressive Model.ipynb",
   "provenance": []
  },
  "kernelspec": {
   "display_name": "Python 3 (ipykernel)",
   "language": "python",
   "name": "python3"
  },
  "language_info": {
   "codemirror_mode": {
    "name": "ipython",
    "version": 3
   },
   "file_extension": ".py",
   "mimetype": "text/x-python",
   "name": "python",
   "nbconvert_exporter": "python",
   "pygments_lexer": "ipython3",
   "version": "3.9.7"
  }
 },
 "nbformat": 4,
 "nbformat_minor": 5
}
